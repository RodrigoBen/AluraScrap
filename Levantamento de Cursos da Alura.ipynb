{
 "cells": [
  {
   "attachments": {},
   "cell_type": "markdown",
   "id": "c76ca95a",
   "metadata": {},
   "source": [
    "# Extração das ementas da Alura\n",
    "Este script fora desenvolvido para extrair um arquivo estruturado contendo as seguintes informações do site da Alura:\n",
    "* Escolas(Progração, Front-End)\n",
    "* Tipo de Curso (Java, PHP, C# e outros) \n",
    "* Curso(Algoritmos, por exemplo)\n",
    "* Carga Horária do curso \n",
    "* Ementa, com aulas e seus assuntos"
   ]
  },
  {
   "cell_type": "code",
   "execution_count": 22,
   "id": "0bee66eb",
   "metadata": {},
   "outputs": [],
   "source": [
    "from bs4 import BeautifulSoup\n",
    "from urllib.request import urlopen\n",
    "import requests\n",
    "import json, io\n",
    "url='https://www.alura.com.br'\n",
    "#response=urlopen(url)\n",
    "r = requests.get(url)\n",
    "soup = BeautifulSoup(r.text, 'html.parser')"
   ]
  },
  {
   "cell_type": "code",
   "execution_count": 24,
   "id": "be094f14",
   "metadata": {},
   "outputs": [],
   "source": [
    "def aulas(url, link):\n",
    "    r = requests.get(url+link)    \n",
    "    bs = BeautifulSoup(r.text, 'html.parser')\n",
    "    link = bs.find_all(class_='courseInfo-detailed-content-item')\n",
    "    aulas=[{\n",
    "        'aula':linha.h3.text,\n",
    "        'topicos': [ i.text for i in linha.find_all(class_='courseInfo-detailed-content-item-topic')]\n",
    "    } for linha in link]\n",
    "    return aulas"
   ]
  },
  {
   "cell_type": "code",
   "execution_count": 25,
   "id": "cc6816ac",
   "metadata": {},
   "outputs": [],
   "source": [
    "def pagina(url, link):\n",
    "    r = requests.get(url+link)    \n",
    "    bs = BeautifulSoup(r.text, 'html.parser')\n",
    "    link = url+bs.find(class_='school-link-all-courses').get('href')\n",
    "    return {'link' : link, 'cursos' : cursos(link)}\n",
    "\n",
    "def cursos(link):\n",
    "    cursos=[]\n",
    "    r = requests.get(link)    \n",
    "    bs = BeautifulSoup(r.text, 'html.parser')\n",
    "    container=bs.find(class_='lista-subcategorias__subcategorias subcategoria__container')\n",
    "    categorias=container.find_all(class_='subcategoria lista-subcategorias__subcategoria')\n",
    "    for categoria in categorias:\n",
    "        grupo_curso={\n",
    "            'grupo_curso': categoria.h2.text,\n",
    "            'link_grupo_curso': url+categoria.a.get('href'),\n",
    "            'cursos': [\n",
    "                {\n",
    "                    'curso' : i.span.text,\n",
    "                    'carga_horaria': i.find(class_='card-curso__carga').text.strip(),\n",
    "                    'link_curso': url+i.get('href'),\n",
    "                    'aulas' : aulas(url, i.get('href'))\n",
    "                    \n",
    "                }for i in categoria.find_all(class_='card-curso')]    \n",
    "        }\n",
    "        cursos.append(grupo_curso)\n",
    "    return cursos"
   ]
  },
  {
   "attachments": {},
   "cell_type": "markdown",
   "id": "a0988e6d",
   "metadata": {},
   "source": [
    "# Fazendo a extração dos links das escolas a partir da Home Page\n",
    "Neste passo consigo obter o nome da escola e o link que adentra aos seus cursos e salvo em arquivo JSON."
   ]
  },
  {
   "cell_type": "code",
   "execution_count": 26,
   "id": "edc3ab66",
   "metadata": {},
   "outputs": [
    {
     "name": "stdout",
     "output_type": "stream",
     "text": [
      "Iniciando a extração das informações e será printado quando ficar pronto\n",
      "Pronto e salvo o arquivo: alura.json\n"
     ]
    }
   ],
   "source": [
    "print('Iniciando a extração das informações e será printado quando ficar pronto')\n",
    "alura=soup.find(class_='container --items')\n",
    "escolas=alura.find_all(class_='careers__list__item')\n",
    "linha=[]\n",
    "for escola in escolas:\n",
    "    dicionario={'escola': escola.h3.text, \n",
    "                'link_escola': url+escola.find(class_='careers__list__item__see-more__link').get('href'),\n",
    "                'link_cursos':pagina(url,escola.find(class_='careers__list__item__see-more__link').get('href')),\n",
    "               }\n",
    "    linha.append(dicionario)\n",
    "with open('alura.json', 'w', encoding='utf-8') as arquivo:\n",
    "    json.dump({'alura':linha}, arquivo)\n",
    "print('Pronto e salvo o arquivo: alura.json')"
   ]
  }
 ],
 "metadata": {
  "kernelspec": {
   "display_name": "Python 3 (ipykernel)",
   "language": "python",
   "name": "python3"
  },
  "language_info": {
   "codemirror_mode": {
    "name": "ipython",
    "version": 3
   },
   "file_extension": ".py",
   "mimetype": "text/x-python",
   "name": "python",
   "nbconvert_exporter": "python",
   "pygments_lexer": "ipython3",
   "version": "3.9.12"
  }
 },
 "nbformat": 4,
 "nbformat_minor": 5
}
